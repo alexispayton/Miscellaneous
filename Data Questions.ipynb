{
 "cells": [
  {
   "cell_type": "code",
   "execution_count": 1,
   "id": "f4816310-086a-4e9c-b091-28db434bc425",
   "metadata": {},
   "outputs": [
    {
     "name": "stderr",
     "output_type": "stream",
     "text": [
      "── \u001b[1mAttaching core tidyverse packages\u001b[22m ──────────────────────── tidyverse 2.0.0 ──\n",
      "\u001b[32m✔\u001b[39m \u001b[34mdplyr    \u001b[39m 1.1.4     \u001b[32m✔\u001b[39m \u001b[34mreadr    \u001b[39m 2.1.5\n",
      "\u001b[32m✔\u001b[39m \u001b[34mforcats  \u001b[39m 1.0.0     \u001b[32m✔\u001b[39m \u001b[34mstringr  \u001b[39m 1.5.1\n",
      "\u001b[32m✔\u001b[39m \u001b[34mggplot2  \u001b[39m 3.5.2     \u001b[32m✔\u001b[39m \u001b[34mtibble   \u001b[39m 3.3.0\n",
      "\u001b[32m✔\u001b[39m \u001b[34mlubridate\u001b[39m 1.9.4     \u001b[32m✔\u001b[39m \u001b[34mtidyr    \u001b[39m 1.3.1\n",
      "\u001b[32m✔\u001b[39m \u001b[34mpurrr    \u001b[39m 1.1.0     \n",
      "── \u001b[1mConflicts\u001b[22m ────────────────────────────────────────── tidyverse_conflicts() ──\n",
      "\u001b[31m✖\u001b[39m \u001b[34mdplyr\u001b[39m::\u001b[32mfilter()\u001b[39m masks \u001b[34mstats\u001b[39m::filter()\n",
      "\u001b[31m✖\u001b[39m \u001b[34mdplyr\u001b[39m::\u001b[32mlag()\u001b[39m    masks \u001b[34mstats\u001b[39m::lag()\n",
      "\u001b[36mℹ\u001b[39m Use the conflicted package (\u001b[3m\u001b[34m<http://conflicted.r-lib.org/>\u001b[39m\u001b[23m) to force all conflicts to become errors\n",
      "\n",
      "Attaching package: ‘reshape2’\n",
      "\n",
      "\n",
      "The following object is masked from ‘package:tidyr’:\n",
      "\n",
      "    smiths\n",
      "\n",
      "\n"
     ]
    }
   ],
   "source": [
    ".libPaths(R.home('/opt/homebrew/Caskroom/miniforge/base/lib/R/library'))\n",
    "Output = '/Users/alexis/Documents/R/Engineering the Future/Output'\n",
    "cur_date = '081825'\n",
    "\n",
    "library(readxl)\n",
    "library(tidyverse)\n",
    "library(reshape2)\n",
    "library(openxlsx)\n",
    "\n",
    "# reading in files\n",
    "participant_df = data.frame(read_excel(\"Input/Participant Information.xlsx\"))[,1:7]\n",
    "institution_df = data.frame(read_excel(\"Input/Institution Information.xlsx\"))"
   ]
  },
  {
   "cell_type": "code",
   "execution_count": 2,
   "id": "6a022e53-e5e2-4254-8be1-e6342215f50d",
   "metadata": {},
   "outputs": [
    {
     "data": {
      "text/html": [
       "<table class=\"dataframe\">\n",
       "<caption>A data.frame: 6 × 7</caption>\n",
       "<thead>\n",
       "\t<tr><th></th><th scope=col>Year_of_Attendance</th><th scope=col>First_Name</th><th scope=col>Last_Name</th><th scope=col>Full_Name</th><th scope=col>Institution</th><th scope=col>Department</th><th scope=col>Position</th></tr>\n",
       "\t<tr><th></th><th scope=col>&lt;dbl&gt;</th><th scope=col>&lt;chr&gt;</th><th scope=col>&lt;chr&gt;</th><th scope=col>&lt;chr&gt;</th><th scope=col>&lt;chr&gt;</th><th scope=col>&lt;chr&gt;</th><th scope=col>&lt;chr&gt;</th></tr>\n",
       "</thead>\n",
       "<tbody>\n",
       "\t<tr><th scope=row>1</th><td>2001</td><td>Jalal  </td><td>Abedi   </td><td>Jalal Abedi     </td><td>Clark Atlanta University           </td><td>Chemical Engineering             </td><td>Assistant Professor           </td></tr>\n",
       "\t<tr><th scope=row>2</th><td>2001</td><td>Lukee  </td><td>Achenie </td><td>Lukee Achenie   </td><td>University of Connecticut          </td><td>Chemical Engineering             </td><td>Associate Professor           </td></tr>\n",
       "\t<tr><th scope=row>3</th><td>2001</td><td>Wudneh </td><td>Admassu </td><td>Wudneh Admassu  </td><td>University of Idaho                </td><td>Chemical Engineering             </td><td>Professor and Department Chair</td></tr>\n",
       "\t<tr><th scope=row>4</th><td>2001</td><td><span style=white-space:pre-wrap>Pedro  </span></td><td>Alvarez </td><td><span style=white-space:pre-wrap>Pedro Alvarez   </span></td><td><span style=white-space:pre-wrap>University of Iowa                 </span></td><td>Civil &amp; Environmental Engineering</td><td><span style=white-space:pre-wrap>Associate Professor           </span></td></tr>\n",
       "\t<tr><th scope=row>5</th><td>2001</td><td>Camille</td><td>Anderson</td><td>Camille Anderson</td><td>University of California - Berkeley</td><td>Chemical Engineering             </td><td>PhD Candidate                 </td></tr>\n",
       "\t<tr><th scope=row>6</th><td>2001</td><td>Lynden </td><td>Archer  </td><td>Lynden Archer   </td><td>Cornell University                 </td><td>Chemical Engineering             </td><td>Associate Professor           </td></tr>\n",
       "</tbody>\n",
       "</table>\n"
      ],
      "text/latex": [
       "A data.frame: 6 × 7\n",
       "\\begin{tabular}{r|lllllll}\n",
       "  & Year\\_of\\_Attendance & First\\_Name & Last\\_Name & Full\\_Name & Institution & Department & Position\\\\\n",
       "  & <dbl> & <chr> & <chr> & <chr> & <chr> & <chr> & <chr>\\\\\n",
       "\\hline\n",
       "\t1 & 2001 & Jalal   & Abedi    & Jalal Abedi      & Clark Atlanta University            & Chemical Engineering              & Assistant Professor           \\\\\n",
       "\t2 & 2001 & Lukee   & Achenie  & Lukee Achenie    & University of Connecticut           & Chemical Engineering              & Associate Professor           \\\\\n",
       "\t3 & 2001 & Wudneh  & Admassu  & Wudneh Admassu   & University of Idaho                 & Chemical Engineering              & Professor and Department Chair\\\\\n",
       "\t4 & 2001 & Pedro   & Alvarez  & Pedro Alvarez    & University of Iowa                  & Civil \\& Environmental Engineering & Associate Professor           \\\\\n",
       "\t5 & 2001 & Camille & Anderson & Camille Anderson & University of California - Berkeley & Chemical Engineering              & PhD Candidate                 \\\\\n",
       "\t6 & 2001 & Lynden  & Archer   & Lynden Archer    & Cornell University                  & Chemical Engineering              & Associate Professor           \\\\\n",
       "\\end{tabular}\n"
      ],
      "text/markdown": [
       "\n",
       "A data.frame: 6 × 7\n",
       "\n",
       "| <!--/--> | Year_of_Attendance &lt;dbl&gt; | First_Name &lt;chr&gt; | Last_Name &lt;chr&gt; | Full_Name &lt;chr&gt; | Institution &lt;chr&gt; | Department &lt;chr&gt; | Position &lt;chr&gt; |\n",
       "|---|---|---|---|---|---|---|---|\n",
       "| 1 | 2001 | Jalal   | Abedi    | Jalal Abedi      | Clark Atlanta University            | Chemical Engineering              | Assistant Professor            |\n",
       "| 2 | 2001 | Lukee   | Achenie  | Lukee Achenie    | University of Connecticut           | Chemical Engineering              | Associate Professor            |\n",
       "| 3 | 2001 | Wudneh  | Admassu  | Wudneh Admassu   | University of Idaho                 | Chemical Engineering              | Professor and Department Chair |\n",
       "| 4 | 2001 | Pedro   | Alvarez  | Pedro Alvarez    | University of Iowa                  | Civil &amp; Environmental Engineering | Associate Professor            |\n",
       "| 5 | 2001 | Camille | Anderson | Camille Anderson | University of California - Berkeley | Chemical Engineering              | PhD Candidate                  |\n",
       "| 6 | 2001 | Lynden  | Archer   | Lynden Archer    | Cornell University                  | Chemical Engineering              | Associate Professor            |\n",
       "\n"
      ],
      "text/plain": [
       "  Year_of_Attendance First_Name Last_Name Full_Name       \n",
       "1 2001               Jalal      Abedi     Jalal Abedi     \n",
       "2 2001               Lukee      Achenie   Lukee Achenie   \n",
       "3 2001               Wudneh     Admassu   Wudneh Admassu  \n",
       "4 2001               Pedro      Alvarez   Pedro Alvarez   \n",
       "5 2001               Camille    Anderson  Camille Anderson\n",
       "6 2001               Lynden     Archer    Lynden Archer   \n",
       "  Institution                         Department                       \n",
       "1 Clark Atlanta University            Chemical Engineering             \n",
       "2 University of Connecticut           Chemical Engineering             \n",
       "3 University of Idaho                 Chemical Engineering             \n",
       "4 University of Iowa                  Civil & Environmental Engineering\n",
       "5 University of California - Berkeley Chemical Engineering             \n",
       "6 Cornell University                  Chemical Engineering             \n",
       "  Position                      \n",
       "1 Assistant Professor           \n",
       "2 Associate Professor           \n",
       "3 Professor and Department Chair\n",
       "4 Associate Professor           \n",
       "5 PhD Candidate                 \n",
       "6 Associate Professor           "
      ]
     },
     "metadata": {},
     "output_type": "display_data"
    },
    {
     "data": {
      "text/html": [
       "<table class=\"dataframe\">\n",
       "<caption>A data.frame: 6 × 3</caption>\n",
       "<thead>\n",
       "\t<tr><th></th><th scope=col>Institution</th><th scope=col>Type</th><th scope=col>Region</th></tr>\n",
       "\t<tr><th></th><th scope=col>&lt;chr&gt;</th><th scope=col>&lt;chr&gt;</th><th scope=col>&lt;chr&gt;</th></tr>\n",
       "</thead>\n",
       "<tbody>\n",
       "\t<tr><th scope=row>1</th><td>Arizona State University - Tempe Campus      </td><td>PWI</td><td>SW</td></tr>\n",
       "\t<tr><th scope=row>2</th><td>Arizona State University ‐ Polytechnic Campus</td><td>PWI</td><td>SW</td></tr>\n",
       "\t<tr><th scope=row>3</th><td>Armstrong Atlantic State University          </td><td>HSI</td><td>SE</td></tr>\n",
       "\t<tr><th scope=row>4</th><td>Auburn University                            </td><td>PWI</td><td>SE</td></tr>\n",
       "\t<tr><th scope=row>5</th><td>Battelle Pacific Northwest Laboratory        </td><td>Lab</td><td>NW</td></tr>\n",
       "\t<tr><th scope=row>6</th><td>Baylor College of Medicine                   </td><td>PWI</td><td>SW</td></tr>\n",
       "</tbody>\n",
       "</table>\n"
      ],
      "text/latex": [
       "A data.frame: 6 × 3\n",
       "\\begin{tabular}{r|lll}\n",
       "  & Institution & Type & Region\\\\\n",
       "  & <chr> & <chr> & <chr>\\\\\n",
       "\\hline\n",
       "\t1 & Arizona State University - Tempe Campus       & PWI & SW\\\\\n",
       "\t2 & Arizona State University ‐ Polytechnic Campus & PWI & SW\\\\\n",
       "\t3 & Armstrong Atlantic State University           & HSI & SE\\\\\n",
       "\t4 & Auburn University                             & PWI & SE\\\\\n",
       "\t5 & Battelle Pacific Northwest Laboratory         & Lab & NW\\\\\n",
       "\t6 & Baylor College of Medicine                    & PWI & SW\\\\\n",
       "\\end{tabular}\n"
      ],
      "text/markdown": [
       "\n",
       "A data.frame: 6 × 3\n",
       "\n",
       "| <!--/--> | Institution &lt;chr&gt; | Type &lt;chr&gt; | Region &lt;chr&gt; |\n",
       "|---|---|---|---|\n",
       "| 1 | Arizona State University - Tempe Campus       | PWI | SW |\n",
       "| 2 | Arizona State University ‐ Polytechnic Campus | PWI | SW |\n",
       "| 3 | Armstrong Atlantic State University           | HSI | SE |\n",
       "| 4 | Auburn University                             | PWI | SE |\n",
       "| 5 | Battelle Pacific Northwest Laboratory         | Lab | NW |\n",
       "| 6 | Baylor College of Medicine                    | PWI | SW |\n",
       "\n"
      ],
      "text/plain": [
       "  Institution                                   Type Region\n",
       "1 Arizona State University - Tempe Campus       PWI  SW    \n",
       "2 Arizona State University ‐ Polytechnic Campus PWI  SW    \n",
       "3 Armstrong Atlantic State University           HSI  SE    \n",
       "4 Auburn University                             PWI  SE    \n",
       "5 Battelle Pacific Northwest Laboratory         Lab  NW    \n",
       "6 Baylor College of Medicine                    PWI  SW    "
      ]
     },
     "metadata": {},
     "output_type": "display_data"
    }
   ],
   "source": [
    "head(participant_df)\n",
    "head(institution_df)"
   ]
  },
  {
   "cell_type": "markdown",
   "id": "c4cc7c65-293a-4fef-b34f-1d22a6d992a7",
   "metadata": {},
   "source": [
    "## 1. How many participants returned and which years did they attend?"
   ]
  },
  {
   "cell_type": "code",
   "execution_count": 3,
   "id": "3b057460-4585-47b0-a2a6-d455a8148ccd",
   "metadata": {},
   "outputs": [
    {
     "data": {
      "text/html": [
       "<table class=\"dataframe\">\n",
       "<caption>A grouped_df: 6 × 2</caption>\n",
       "<thead>\n",
       "\t<tr><th scope=col>Full_Name</th><th scope=col>n</th></tr>\n",
       "\t<tr><th scope=col>&lt;chr&gt;</th><th scope=col>&lt;int&gt;</th></tr>\n",
       "</thead>\n",
       "<tbody>\n",
       "\t<tr><td>Addle Hicks      </td><td>2</td></tr>\n",
       "\t<tr><td>Alfred Cruz      </td><td>2</td></tr>\n",
       "\t<tr><td>Anjelica Gonzalez</td><td>3</td></tr>\n",
       "\t<tr><td>Asegun Henry     </td><td>2</td></tr>\n",
       "\t<tr><td>Carmen Lilley    </td><td>2</td></tr>\n",
       "\t<tr><td>Cheryl Gomillion </td><td>2</td></tr>\n",
       "</tbody>\n",
       "</table>\n"
      ],
      "text/latex": [
       "A grouped\\_df: 6 × 2\n",
       "\\begin{tabular}{ll}\n",
       " Full\\_Name & n\\\\\n",
       " <chr> & <int>\\\\\n",
       "\\hline\n",
       "\t Addle Hicks       & 2\\\\\n",
       "\t Alfred Cruz       & 2\\\\\n",
       "\t Anjelica Gonzalez & 3\\\\\n",
       "\t Asegun Henry      & 2\\\\\n",
       "\t Carmen Lilley     & 2\\\\\n",
       "\t Cheryl Gomillion  & 2\\\\\n",
       "\\end{tabular}\n"
      ],
      "text/markdown": [
       "\n",
       "A grouped_df: 6 × 2\n",
       "\n",
       "| Full_Name &lt;chr&gt; | n &lt;int&gt; |\n",
       "|---|---|\n",
       "| Addle Hicks       | 2 |\n",
       "| Alfred Cruz       | 2 |\n",
       "| Anjelica Gonzalez | 3 |\n",
       "| Asegun Henry      | 2 |\n",
       "| Carmen Lilley     | 2 |\n",
       "| Cheryl Gomillion  | 2 |\n",
       "\n"
      ],
      "text/plain": [
       "  Full_Name         n\n",
       "1 Addle Hicks       2\n",
       "2 Alfred Cruz       2\n",
       "3 Anjelica Gonzalez 3\n",
       "4 Asegun Henry      2\n",
       "5 Carmen Lilley     2\n",
       "6 Cheryl Gomillion  2"
      ]
     },
     "metadata": {},
     "output_type": "display_data"
    }
   ],
   "source": [
    "repeating_part_df = participant_df %>%\n",
    "    group_by(Full_Name) %>%\n",
    "    count() %>%\n",
    "    filter(n > 1)\n",
    "\n",
    "head(repeating_part_df)"
   ]
  },
  {
   "cell_type": "code",
   "execution_count": 4,
   "id": "60bc0cd8-6f28-43a3-bb7a-e5625e9c2927",
   "metadata": {},
   "outputs": [
    {
     "data": {
      "text/html": [
       "58"
      ],
      "text/latex": [
       "58"
      ],
      "text/markdown": [
       "58"
      ],
      "text/plain": [
       "[1] 58"
      ]
     },
     "metadata": {},
     "output_type": "display_data"
    },
    {
     "data": {
      "text/html": [
       "<table class=\"dataframe\">\n",
       "<caption>A data.frame: 6 × 2</caption>\n",
       "<thead>\n",
       "\t<tr><th></th><th scope=col>Year_of_Attendance</th><th scope=col>Full_Name</th></tr>\n",
       "\t<tr><th></th><th scope=col>&lt;dbl&gt;</th><th scope=col>&lt;chr&gt;</th></tr>\n",
       "</thead>\n",
       "<tbody>\n",
       "\t<tr><th scope=row>1</th><td>2006</td><td>Addle Hicks      </td></tr>\n",
       "\t<tr><th scope=row>2</th><td>2009</td><td>Addle Hicks      </td></tr>\n",
       "\t<tr><th scope=row>3</th><td>2010</td><td>Alfred Cruz      </td></tr>\n",
       "\t<tr><th scope=row>4</th><td>2016</td><td>Alfred Cruz      </td></tr>\n",
       "\t<tr><th scope=row>5</th><td>2004</td><td>Anjelica Gonzalez</td></tr>\n",
       "\t<tr><th scope=row>6</th><td>2006</td><td>Anjelica Gonzalez</td></tr>\n",
       "</tbody>\n",
       "</table>\n"
      ],
      "text/latex": [
       "A data.frame: 6 × 2\n",
       "\\begin{tabular}{r|ll}\n",
       "  & Year\\_of\\_Attendance & Full\\_Name\\\\\n",
       "  & <dbl> & <chr>\\\\\n",
       "\\hline\n",
       "\t1 & 2006 & Addle Hicks      \\\\\n",
       "\t2 & 2009 & Addle Hicks      \\\\\n",
       "\t3 & 2010 & Alfred Cruz      \\\\\n",
       "\t4 & 2016 & Alfred Cruz      \\\\\n",
       "\t5 & 2004 & Anjelica Gonzalez\\\\\n",
       "\t6 & 2006 & Anjelica Gonzalez\\\\\n",
       "\\end{tabular}\n"
      ],
      "text/markdown": [
       "\n",
       "A data.frame: 6 × 2\n",
       "\n",
       "| <!--/--> | Year_of_Attendance &lt;dbl&gt; | Full_Name &lt;chr&gt; |\n",
       "|---|---|---|\n",
       "| 1 | 2006 | Addle Hicks       |\n",
       "| 2 | 2009 | Addle Hicks       |\n",
       "| 3 | 2010 | Alfred Cruz       |\n",
       "| 4 | 2016 | Alfred Cruz       |\n",
       "| 5 | 2004 | Anjelica Gonzalez |\n",
       "| 6 | 2006 | Anjelica Gonzalez |\n",
       "\n"
      ],
      "text/plain": [
       "  Year_of_Attendance Full_Name        \n",
       "1 2006               Addle Hicks      \n",
       "2 2009               Addle Hicks      \n",
       "3 2010               Alfred Cruz      \n",
       "4 2016               Alfred Cruz      \n",
       "5 2004               Anjelica Gonzalez\n",
       "6 2006               Anjelica Gonzalez"
      ]
     },
     "metadata": {},
     "output_type": "display_data"
    }
   ],
   "source": [
    "repeating_names = repeating_part_df$Full_Name\n",
    "length(repeating_names)\n",
    "\n",
    "repeat_year_df = participant_df[,c(1,4)] %>%\n",
    "    filter(Full_Name %in% repeating_names) %>%\n",
    "    arrange(Full_Name)\n",
    "\n",
    "head(repeat_year_df)"
   ]
  },
  {
   "cell_type": "markdown",
   "id": "63703a41-13fc-484a-b9e5-bc0741393a82",
   "metadata": {},
   "source": [
    "58 participants attended at least twice.\n",
    "\n",
    "## 2. How many participants represented each department for each year (i.e., chemistry engineering for 2001 had 5 participants)?"
   ]
  },
  {
   "cell_type": "code",
   "execution_count": 5,
   "id": "832c9faf-1837-482f-b44f-10d06775f080",
   "metadata": {},
   "outputs": [
    {
     "name": "stderr",
     "output_type": "stream",
     "text": [
      "\u001b[1m\u001b[22mJoining with `by = join_by(Institution)`\n"
     ]
    },
    {
     "data": {
      "text/html": [
       "<table class=\"dataframe\">\n",
       "<caption>A data.frame: 6 × 9</caption>\n",
       "<thead>\n",
       "\t<tr><th></th><th scope=col>Year_of_Attendance</th><th scope=col>First_Name</th><th scope=col>Last_Name</th><th scope=col>Full_Name</th><th scope=col>Institution</th><th scope=col>Department</th><th scope=col>Position</th><th scope=col>Type</th><th scope=col>Region</th></tr>\n",
       "\t<tr><th></th><th scope=col>&lt;dbl&gt;</th><th scope=col>&lt;chr&gt;</th><th scope=col>&lt;chr&gt;</th><th scope=col>&lt;chr&gt;</th><th scope=col>&lt;chr&gt;</th><th scope=col>&lt;chr&gt;</th><th scope=col>&lt;chr&gt;</th><th scope=col>&lt;chr&gt;</th><th scope=col>&lt;chr&gt;</th></tr>\n",
       "</thead>\n",
       "<tbody>\n",
       "\t<tr><th scope=row>1</th><td>2001</td><td>Jalal  </td><td>Abedi   </td><td>Jalal Abedi     </td><td>Clark Atlanta University           </td><td>Chemical Engineering             </td><td>Assistant Professor           </td><td>HBCU        </td><td>SE</td></tr>\n",
       "\t<tr><th scope=row>2</th><td>2001</td><td>Lukee  </td><td>Achenie </td><td>Lukee Achenie   </td><td>University of Connecticut          </td><td>Chemical Engineering             </td><td>Associate Professor           </td><td>PWI         </td><td>NE</td></tr>\n",
       "\t<tr><th scope=row>3</th><td>2001</td><td>Wudneh </td><td>Admassu </td><td>Wudneh Admassu  </td><td>University of Idaho                </td><td>Chemical Engineering             </td><td>Professor and Department Chair</td><td>PWI         </td><td>W </td></tr>\n",
       "\t<tr><th scope=row>4</th><td>2001</td><td><span style=white-space:pre-wrap>Pedro  </span></td><td>Alvarez </td><td><span style=white-space:pre-wrap>Pedro Alvarez   </span></td><td><span style=white-space:pre-wrap>University of Iowa                 </span></td><td>Civil &amp; Environmental Engineering</td><td><span style=white-space:pre-wrap>Associate Professor           </span></td><td><span style=white-space:pre-wrap>PWI         </span></td><td>MW</td></tr>\n",
       "\t<tr><th scope=row>5</th><td>2001</td><td>Camille</td><td>Anderson</td><td>Camille Anderson</td><td>University of California - Berkeley</td><td>Chemical Engineering             </td><td>PhD Candidate                 </td><td>AANAPISI/HSI</td><td>W </td></tr>\n",
       "\t<tr><th scope=row>6</th><td>2001</td><td>Lynden </td><td>Archer  </td><td>Lynden Archer   </td><td>Cornell University                 </td><td>Chemical Engineering             </td><td>Associate Professor           </td><td>PWI         </td><td>NE</td></tr>\n",
       "</tbody>\n",
       "</table>\n"
      ],
      "text/latex": [
       "A data.frame: 6 × 9\n",
       "\\begin{tabular}{r|lllllllll}\n",
       "  & Year\\_of\\_Attendance & First\\_Name & Last\\_Name & Full\\_Name & Institution & Department & Position & Type & Region\\\\\n",
       "  & <dbl> & <chr> & <chr> & <chr> & <chr> & <chr> & <chr> & <chr> & <chr>\\\\\n",
       "\\hline\n",
       "\t1 & 2001 & Jalal   & Abedi    & Jalal Abedi      & Clark Atlanta University            & Chemical Engineering              & Assistant Professor            & HBCU         & SE\\\\\n",
       "\t2 & 2001 & Lukee   & Achenie  & Lukee Achenie    & University of Connecticut           & Chemical Engineering              & Associate Professor            & PWI          & NE\\\\\n",
       "\t3 & 2001 & Wudneh  & Admassu  & Wudneh Admassu   & University of Idaho                 & Chemical Engineering              & Professor and Department Chair & PWI          & W \\\\\n",
       "\t4 & 2001 & Pedro   & Alvarez  & Pedro Alvarez    & University of Iowa                  & Civil \\& Environmental Engineering & Associate Professor            & PWI          & MW\\\\\n",
       "\t5 & 2001 & Camille & Anderson & Camille Anderson & University of California - Berkeley & Chemical Engineering              & PhD Candidate                  & AANAPISI/HSI & W \\\\\n",
       "\t6 & 2001 & Lynden  & Archer   & Lynden Archer    & Cornell University                  & Chemical Engineering              & Associate Professor            & PWI          & NE\\\\\n",
       "\\end{tabular}\n"
      ],
      "text/markdown": [
       "\n",
       "A data.frame: 6 × 9\n",
       "\n",
       "| <!--/--> | Year_of_Attendance &lt;dbl&gt; | First_Name &lt;chr&gt; | Last_Name &lt;chr&gt; | Full_Name &lt;chr&gt; | Institution &lt;chr&gt; | Department &lt;chr&gt; | Position &lt;chr&gt; | Type &lt;chr&gt; | Region &lt;chr&gt; |\n",
       "|---|---|---|---|---|---|---|---|---|---|\n",
       "| 1 | 2001 | Jalal   | Abedi    | Jalal Abedi      | Clark Atlanta University            | Chemical Engineering              | Assistant Professor            | HBCU         | SE |\n",
       "| 2 | 2001 | Lukee   | Achenie  | Lukee Achenie    | University of Connecticut           | Chemical Engineering              | Associate Professor            | PWI          | NE |\n",
       "| 3 | 2001 | Wudneh  | Admassu  | Wudneh Admassu   | University of Idaho                 | Chemical Engineering              | Professor and Department Chair | PWI          | W  |\n",
       "| 4 | 2001 | Pedro   | Alvarez  | Pedro Alvarez    | University of Iowa                  | Civil &amp; Environmental Engineering | Associate Professor            | PWI          | MW |\n",
       "| 5 | 2001 | Camille | Anderson | Camille Anderson | University of California - Berkeley | Chemical Engineering              | PhD Candidate                  | AANAPISI/HSI | W  |\n",
       "| 6 | 2001 | Lynden  | Archer   | Lynden Archer    | Cornell University                  | Chemical Engineering              | Associate Professor            | PWI          | NE |\n",
       "\n"
      ],
      "text/plain": [
       "  Year_of_Attendance First_Name Last_Name Full_Name       \n",
       "1 2001               Jalal      Abedi     Jalal Abedi     \n",
       "2 2001               Lukee      Achenie   Lukee Achenie   \n",
       "3 2001               Wudneh     Admassu   Wudneh Admassu  \n",
       "4 2001               Pedro      Alvarez   Pedro Alvarez   \n",
       "5 2001               Camille    Anderson  Camille Anderson\n",
       "6 2001               Lynden     Archer    Lynden Archer   \n",
       "  Institution                         Department                       \n",
       "1 Clark Atlanta University            Chemical Engineering             \n",
       "2 University of Connecticut           Chemical Engineering             \n",
       "3 University of Idaho                 Chemical Engineering             \n",
       "4 University of Iowa                  Civil & Environmental Engineering\n",
       "5 University of California - Berkeley Chemical Engineering             \n",
       "6 Cornell University                  Chemical Engineering             \n",
       "  Position                       Type         Region\n",
       "1 Assistant Professor            HBCU         SE    \n",
       "2 Associate Professor            PWI          NE    \n",
       "3 Professor and Department Chair PWI          W     \n",
       "4 Associate Professor            PWI          MW    \n",
       "5 PhD Candidate                  AANAPISI/HSI W     \n",
       "6 Associate Professor            PWI          NE    "
      ]
     },
     "metadata": {},
     "output_type": "display_data"
    }
   ],
   "source": [
    "full_df = inner_join(participant_df, institution_df)\n",
    "\n",
    "head(full_df)"
   ]
  },
  {
   "cell_type": "code",
   "execution_count": 6,
   "id": "13d754b4-505a-4717-8128-b1d2e8bc3432",
   "metadata": {},
   "outputs": [
    {
     "name": "stderr",
     "output_type": "stream",
     "text": [
      "Warning message:\n",
      "“\u001b[1m\u001b[22mExpected 3 pieces. Missing pieces filled with `NA` in 21 rows [1, 2, 3, 4, 5,\n",
      "7, 8, 9, 10, 11, 12, 13, 14, 15, 16, 17, 18, 19, 20, 21, ...].”\n"
     ]
    },
    {
     "data": {
      "text/html": [
       "<table class=\"dataframe\">\n",
       "<caption>A tibble: 6 × 9</caption>\n",
       "<thead>\n",
       "\t<tr><th scope=col>Year_of_Attendance</th><th scope=col>First_Name</th><th scope=col>Last_Name</th><th scope=col>Full_Name</th><th scope=col>Institution</th><th scope=col>Position</th><th scope=col>Type</th><th scope=col>Region</th><th scope=col>Department</th></tr>\n",
       "\t<tr><th scope=col>&lt;dbl&gt;</th><th scope=col>&lt;chr&gt;</th><th scope=col>&lt;chr&gt;</th><th scope=col>&lt;chr&gt;</th><th scope=col>&lt;chr&gt;</th><th scope=col>&lt;chr&gt;</th><th scope=col>&lt;chr&gt;</th><th scope=col>&lt;chr&gt;</th><th scope=col>&lt;chr&gt;</th></tr>\n",
       "</thead>\n",
       "<tbody>\n",
       "\t<tr><td>2001</td><td>Herek </td><td><span style=white-space:pre-wrap>Clack  </span></td><td><span style=white-space:pre-wrap>Herek Clack   </span></td><td><span style=white-space:pre-wrap>Illinois Institute of Technology  </span></td><td>Assistant Professor</td><td>PWI</td><td>MW</td><td>Mechanical &amp; Aerospace Engineering</td></tr>\n",
       "\t<tr><td>2001</td><td>Herek </td><td>Clack  </td><td>Herek Clack   </td><td>Illinois Institute of Technology  </td><td>Assistant Professor</td><td>PWI</td><td>MW</td><td> Material Science Engineering     </td></tr>\n",
       "\t<tr><td>2001</td><td>Norman</td><td>Loney  </td><td>Norman Loney  </td><td>New Jersey Institute of Technology</td><td>Associate Professor</td><td>PWI</td><td>NE</td><td>Chemical Engineering              </td></tr>\n",
       "\t<tr><td>2001</td><td>Norman</td><td>Loney  </td><td>Norman Loney  </td><td>New Jersey Institute of Technology</td><td>Associate Professor</td><td>PWI</td><td>NE</td><td>Environmental Engineering         </td></tr>\n",
       "\t<tr><td>2001</td><td>Howard</td><td>Matthew</td><td>Howard Matthew</td><td>Wayne State University            </td><td>Associate Professor</td><td>PWI</td><td>MW</td><td>Chemical Engineering              </td></tr>\n",
       "\t<tr><td>2001</td><td>Howard</td><td>Matthew</td><td>Howard Matthew</td><td>Wayne State University            </td><td>Associate Professor</td><td>PWI</td><td>MW</td><td> Material Science Engineering     </td></tr>\n",
       "</tbody>\n",
       "</table>\n"
      ],
      "text/latex": [
       "A tibble: 6 × 9\n",
       "\\begin{tabular}{lllllllll}\n",
       " Year\\_of\\_Attendance & First\\_Name & Last\\_Name & Full\\_Name & Institution & Position & Type & Region & Department\\\\\n",
       " <dbl> & <chr> & <chr> & <chr> & <chr> & <chr> & <chr> & <chr> & <chr>\\\\\n",
       "\\hline\n",
       "\t 2001 & Herek  & Clack   & Herek Clack    & Illinois Institute of Technology   & Assistant Professor & PWI & MW & Mechanical \\& Aerospace Engineering\\\\\n",
       "\t 2001 & Herek  & Clack   & Herek Clack    & Illinois Institute of Technology   & Assistant Professor & PWI & MW &  Material Science Engineering     \\\\\n",
       "\t 2001 & Norman & Loney   & Norman Loney   & New Jersey Institute of Technology & Associate Professor & PWI & NE & Chemical Engineering              \\\\\n",
       "\t 2001 & Norman & Loney   & Norman Loney   & New Jersey Institute of Technology & Associate Professor & PWI & NE & Environmental Engineering         \\\\\n",
       "\t 2001 & Howard & Matthew & Howard Matthew & Wayne State University             & Associate Professor & PWI & MW & Chemical Engineering              \\\\\n",
       "\t 2001 & Howard & Matthew & Howard Matthew & Wayne State University             & Associate Professor & PWI & MW &  Material Science Engineering     \\\\\n",
       "\\end{tabular}\n"
      ],
      "text/markdown": [
       "\n",
       "A tibble: 6 × 9\n",
       "\n",
       "| Year_of_Attendance &lt;dbl&gt; | First_Name &lt;chr&gt; | Last_Name &lt;chr&gt; | Full_Name &lt;chr&gt; | Institution &lt;chr&gt; | Position &lt;chr&gt; | Type &lt;chr&gt; | Region &lt;chr&gt; | Department &lt;chr&gt; |\n",
       "|---|---|---|---|---|---|---|---|---|\n",
       "| 2001 | Herek  | Clack   | Herek Clack    | Illinois Institute of Technology   | Assistant Professor | PWI | MW | Mechanical &amp; Aerospace Engineering |\n",
       "| 2001 | Herek  | Clack   | Herek Clack    | Illinois Institute of Technology   | Assistant Professor | PWI | MW |  Material Science Engineering      |\n",
       "| 2001 | Norman | Loney   | Norman Loney   | New Jersey Institute of Technology | Associate Professor | PWI | NE | Chemical Engineering               |\n",
       "| 2001 | Norman | Loney   | Norman Loney   | New Jersey Institute of Technology | Associate Professor | PWI | NE | Environmental Engineering          |\n",
       "| 2001 | Howard | Matthew | Howard Matthew | Wayne State University             | Associate Professor | PWI | MW | Chemical Engineering               |\n",
       "| 2001 | Howard | Matthew | Howard Matthew | Wayne State University             | Associate Professor | PWI | MW |  Material Science Engineering      |\n",
       "\n"
      ],
      "text/plain": [
       "  Year_of_Attendance First_Name Last_Name Full_Name     \n",
       "1 2001               Herek      Clack     Herek Clack   \n",
       "2 2001               Herek      Clack     Herek Clack   \n",
       "3 2001               Norman     Loney     Norman Loney  \n",
       "4 2001               Norman     Loney     Norman Loney  \n",
       "5 2001               Howard     Matthew   Howard Matthew\n",
       "6 2001               Howard     Matthew   Howard Matthew\n",
       "  Institution                        Position            Type Region\n",
       "1 Illinois Institute of Technology   Assistant Professor PWI  MW    \n",
       "2 Illinois Institute of Technology   Assistant Professor PWI  MW    \n",
       "3 New Jersey Institute of Technology Associate Professor PWI  NE    \n",
       "4 New Jersey Institute of Technology Associate Professor PWI  NE    \n",
       "5 Wayne State University             Associate Professor PWI  MW    \n",
       "6 Wayne State University             Associate Professor PWI  MW    \n",
       "  Department                        \n",
       "1 Mechanical & Aerospace Engineering\n",
       "2  Material Science Engineering     \n",
       "3 Chemical Engineering              \n",
       "4 Environmental Engineering         \n",
       "5 Chemical Engineering              \n",
       "6  Material Science Engineering     "
      ]
     },
     "metadata": {},
     "output_type": "display_data"
    }
   ],
   "source": [
    "multiple_dept_df = full_df %>%\n",
    "    # splitting up the department col for people listed in multiple departments\n",
    "    filter(grepl(\",\", Department)) %>%\n",
    "    separate(Department, c(\"Dept1\", \"Dept2\", \"Dept3\"), sep = \",\") %>%\n",
    "    pivot_longer(cols = starts_with(\"Dept\"), values_to = \"Department\") %>%\n",
    "    select(-name) %>%\n",
    "    # removing rows without a 3rd department affiliation\n",
    "    filter(!is.na(Department))\n",
    "\n",
    "single_dept_df = full_df %>%\n",
    "    # splitting up the department col for people listed in multiple departments\n",
    "    filter(!grepl(\",\", Department))\n",
    "\n",
    "recombined_df = rbind(multiple_dept_df, single_dept_df)\n",
    "head(recombined_df)"
   ]
  },
  {
   "cell_type": "code",
   "execution_count": 7,
   "id": "12f65ac0-22f9-44ff-ad8a-dee430abe06a",
   "metadata": {},
   "outputs": [
    {
     "name": "stderr",
     "output_type": "stream",
     "text": [
      "\u001b[1m\u001b[22m`summarise()` has grouped output by 'Year_of_Attendance'. You can override\n",
      "using the `.groups` argument.\n"
     ]
    },
    {
     "data": {
      "text/html": [
       "<table class=\"dataframe\">\n",
       "<caption>A grouped_df: 6 × 3</caption>\n",
       "<thead>\n",
       "\t<tr><th scope=col>Year_of_Attendance</th><th scope=col>Department</th><th scope=col>n</th></tr>\n",
       "\t<tr><th scope=col>&lt;dbl&gt;</th><th scope=col>&lt;chr&gt;</th><th scope=col>&lt;int&gt;</th></tr>\n",
       "</thead>\n",
       "<tbody>\n",
       "\t<tr><td>2001</td><td>Chemical Engineering                  </td><td>39</td></tr>\n",
       "\t<tr><td>2001</td><td><span style=white-space:pre-wrap>Civil &amp; Environmental Engineering     </span></td><td> 5</td></tr>\n",
       "\t<tr><td>2001</td><td><span style=white-space:pre-wrap>Chemical &amp; Nuclear Engineering        </span></td><td> 4</td></tr>\n",
       "\t<tr><td>2001</td><td> Material Science Engineering         </td><td> 3</td></tr>\n",
       "\t<tr><td>2001</td><td>Civil Engineering                     </td><td> 2</td></tr>\n",
       "\t<tr><td>2001</td><td>Advanced Materials &amp; Processing Branch</td><td> 1</td></tr>\n",
       "</tbody>\n",
       "</table>\n"
      ],
      "text/latex": [
       "A grouped\\_df: 6 × 3\n",
       "\\begin{tabular}{lll}\n",
       " Year\\_of\\_Attendance & Department & n\\\\\n",
       " <dbl> & <chr> & <int>\\\\\n",
       "\\hline\n",
       "\t 2001 & Chemical Engineering                   & 39\\\\\n",
       "\t 2001 & Civil \\& Environmental Engineering      &  5\\\\\n",
       "\t 2001 & Chemical \\& Nuclear Engineering         &  4\\\\\n",
       "\t 2001 &  Material Science Engineering          &  3\\\\\n",
       "\t 2001 & Civil Engineering                      &  2\\\\\n",
       "\t 2001 & Advanced Materials \\& Processing Branch &  1\\\\\n",
       "\\end{tabular}\n"
      ],
      "text/markdown": [
       "\n",
       "A grouped_df: 6 × 3\n",
       "\n",
       "| Year_of_Attendance &lt;dbl&gt; | Department &lt;chr&gt; | n &lt;int&gt; |\n",
       "|---|---|---|\n",
       "| 2001 | Chemical Engineering                   | 39 |\n",
       "| 2001 | Civil &amp; Environmental Engineering      |  5 |\n",
       "| 2001 | Chemical &amp; Nuclear Engineering         |  4 |\n",
       "| 2001 |  Material Science Engineering          |  3 |\n",
       "| 2001 | Civil Engineering                      |  2 |\n",
       "| 2001 | Advanced Materials &amp; Processing Branch |  1 |\n",
       "\n"
      ],
      "text/plain": [
       "  Year_of_Attendance Department                             n \n",
       "1 2001               Chemical Engineering                   39\n",
       "2 2001               Civil & Environmental Engineering       5\n",
       "3 2001               Chemical & Nuclear Engineering          4\n",
       "4 2001                Material Science Engineering           3\n",
       "5 2001               Civil Engineering                       2\n",
       "6 2001               Advanced Materials & Processing Branch  1"
      ]
     },
     "metadata": {},
     "output_type": "display_data"
    }
   ],
   "source": [
    "dept_counts_df = recombined_df %>%\n",
    "    # removing people without departmental affliations recorded\n",
    "    filter(Department != \"NA\") %>%\n",
    "    group_by(Year_of_Attendance, Department) %>%\n",
    "    summarize(n = n()) %>%\n",
    "    arrange(-n, .by_group = TRUE)\n",
    "\n",
    "head(dept_counts_df)"
   ]
  },
  {
   "cell_type": "markdown",
   "id": "04d8ca7b-ca5c-447a-aec3-72f240a42ac9",
   "metadata": {},
   "source": [
    "## 3. How many participants and institutions are from each region per year?"
   ]
  },
  {
   "cell_type": "code",
   "execution_count": 8,
   "id": "59357109-710a-496b-bce8-e9ef2aafaf30",
   "metadata": {},
   "outputs": [
    {
     "name": "stderr",
     "output_type": "stream",
     "text": [
      "\u001b[1m\u001b[22m`summarise()` has grouped output by 'Year_of_Attendance'. You can override\n",
      "using the `.groups` argument.\n"
     ]
    },
    {
     "data": {
      "text/html": [
       "<table class=\"dataframe\">\n",
       "<caption>A grouped_df: 6 × 3</caption>\n",
       "<thead>\n",
       "\t<tr><th scope=col>Year_of_Attendance</th><th scope=col>Region</th><th scope=col>n</th></tr>\n",
       "\t<tr><th scope=col>&lt;dbl&gt;</th><th scope=col>&lt;chr&gt;</th><th scope=col>&lt;int&gt;</th></tr>\n",
       "</thead>\n",
       "<tbody>\n",
       "\t<tr><td>2001</td><td>SE</td><td>20</td></tr>\n",
       "\t<tr><td>2001</td><td>NE</td><td>19</td></tr>\n",
       "\t<tr><td>2001</td><td>MW</td><td>14</td></tr>\n",
       "\t<tr><td>2001</td><td>SW</td><td> 5</td></tr>\n",
       "\t<tr><td>2001</td><td>W </td><td> 4</td></tr>\n",
       "\t<tr><td>2004</td><td>SE</td><td>35</td></tr>\n",
       "</tbody>\n",
       "</table>\n"
      ],
      "text/latex": [
       "A grouped\\_df: 6 × 3\n",
       "\\begin{tabular}{lll}\n",
       " Year\\_of\\_Attendance & Region & n\\\\\n",
       " <dbl> & <chr> & <int>\\\\\n",
       "\\hline\n",
       "\t 2001 & SE & 20\\\\\n",
       "\t 2001 & NE & 19\\\\\n",
       "\t 2001 & MW & 14\\\\\n",
       "\t 2001 & SW &  5\\\\\n",
       "\t 2001 & W  &  4\\\\\n",
       "\t 2004 & SE & 35\\\\\n",
       "\\end{tabular}\n"
      ],
      "text/markdown": [
       "\n",
       "A grouped_df: 6 × 3\n",
       "\n",
       "| Year_of_Attendance &lt;dbl&gt; | Region &lt;chr&gt; | n &lt;int&gt; |\n",
       "|---|---|---|\n",
       "| 2001 | SE | 20 |\n",
       "| 2001 | NE | 19 |\n",
       "| 2001 | MW | 14 |\n",
       "| 2001 | SW |  5 |\n",
       "| 2001 | W  |  4 |\n",
       "| 2004 | SE | 35 |\n",
       "\n"
      ],
      "text/plain": [
       "  Year_of_Attendance Region n \n",
       "1 2001               SE     20\n",
       "2 2001               NE     19\n",
       "3 2001               MW     14\n",
       "4 2001               SW      5\n",
       "5 2001               W       4\n",
       "6 2004               SE     35"
      ]
     },
     "metadata": {},
     "output_type": "display_data"
    }
   ],
   "source": [
    "regional_part_df = full_df %>%\n",
    "    group_by(Year_of_Attendance, Region) %>%\n",
    "    summarize(n = n()) %>%\n",
    "    arrange(-n, .by_group = TRUE)\n",
    "\n",
    "head(regional_part_df)"
   ]
  },
  {
   "cell_type": "code",
   "execution_count": 9,
   "id": "dbe43bfa-5d4e-43fd-9d8b-0f7ac4c9695f",
   "metadata": {},
   "outputs": [
    {
     "name": "stderr",
     "output_type": "stream",
     "text": [
      "\u001b[1m\u001b[22m`summarise()` has grouped output by 'Year_of_Attendance'. You can override\n",
      "using the `.groups` argument.\n"
     ]
    },
    {
     "data": {
      "text/html": [
       "<table class=\"dataframe\">\n",
       "<caption>A grouped_df: 6 × 3</caption>\n",
       "<thead>\n",
       "\t<tr><th scope=col>Year_of_Attendance</th><th scope=col>Region</th><th scope=col>n</th></tr>\n",
       "\t<tr><th scope=col>&lt;dbl&gt;</th><th scope=col>&lt;chr&gt;</th><th scope=col>&lt;int&gt;</th></tr>\n",
       "</thead>\n",
       "<tbody>\n",
       "\t<tr><td>2001</td><td>NE</td><td>15</td></tr>\n",
       "\t<tr><td>2001</td><td>SE</td><td>13</td></tr>\n",
       "\t<tr><td>2001</td><td>MW</td><td>11</td></tr>\n",
       "\t<tr><td>2001</td><td>SW</td><td> 4</td></tr>\n",
       "\t<tr><td>2001</td><td>W </td><td> 3</td></tr>\n",
       "\t<tr><td>2004</td><td>SE</td><td>19</td></tr>\n",
       "</tbody>\n",
       "</table>\n"
      ],
      "text/latex": [
       "A grouped\\_df: 6 × 3\n",
       "\\begin{tabular}{lll}\n",
       " Year\\_of\\_Attendance & Region & n\\\\\n",
       " <dbl> & <chr> & <int>\\\\\n",
       "\\hline\n",
       "\t 2001 & NE & 15\\\\\n",
       "\t 2001 & SE & 13\\\\\n",
       "\t 2001 & MW & 11\\\\\n",
       "\t 2001 & SW &  4\\\\\n",
       "\t 2001 & W  &  3\\\\\n",
       "\t 2004 & SE & 19\\\\\n",
       "\\end{tabular}\n"
      ],
      "text/markdown": [
       "\n",
       "A grouped_df: 6 × 3\n",
       "\n",
       "| Year_of_Attendance &lt;dbl&gt; | Region &lt;chr&gt; | n &lt;int&gt; |\n",
       "|---|---|---|\n",
       "| 2001 | NE | 15 |\n",
       "| 2001 | SE | 13 |\n",
       "| 2001 | MW | 11 |\n",
       "| 2001 | SW |  4 |\n",
       "| 2001 | W  |  3 |\n",
       "| 2004 | SE | 19 |\n",
       "\n"
      ],
      "text/plain": [
       "  Year_of_Attendance Region n \n",
       "1 2001               NE     15\n",
       "2 2001               SE     13\n",
       "3 2001               MW     11\n",
       "4 2001               SW      4\n",
       "5 2001               W       3\n",
       "6 2004               SE     19"
      ]
     },
     "metadata": {},
     "output_type": "display_data"
    }
   ],
   "source": [
    "regional_inst_df = unique(full_df[,c(1,5,9)]) %>%\n",
    "    group_by(Year_of_Attendance, Region) %>%\n",
    "    summarize(n = n()) %>%\n",
    "    arrange(-n, .by_group = TRUE)\n",
    "\n",
    "head(regional_inst_df)"
   ]
  },
  {
   "cell_type": "markdown",
   "id": "cda23243-54f5-4bf9-a44a-d79dfd92a007",
   "metadata": {},
   "source": [
    "## 4. How many participants and institutions are from each institutional type per year?"
   ]
  },
  {
   "cell_type": "code",
   "execution_count": 10,
   "id": "3427dc21-1b30-4b78-8e9d-1e7a86352991",
   "metadata": {},
   "outputs": [
    {
     "name": "stderr",
     "output_type": "stream",
     "text": [
      "Warning message:\n",
      "“\u001b[1m\u001b[22mExpected 2 pieces. Missing pieces filled with `NA` in 502 rows [1, 2, 3, 4, 5,\n",
      "6, 7, 8, 9, 10, 11, 12, 13, 14, 15, 16, 17, 18, 19, 20, ...].”\n"
     ]
    },
    {
     "data": {
      "text/html": [
       "<table class=\"dataframe\">\n",
       "<caption>A tibble: 6 × 9</caption>\n",
       "<thead>\n",
       "\t<tr><th scope=col>Year_of_Attendance</th><th scope=col>First_Name</th><th scope=col>Last_Name</th><th scope=col>Full_Name</th><th scope=col>Institution</th><th scope=col>Position</th><th scope=col>Region</th><th scope=col>Department</th><th scope=col>Type</th></tr>\n",
       "\t<tr><th scope=col>&lt;dbl&gt;</th><th scope=col>&lt;chr&gt;</th><th scope=col>&lt;chr&gt;</th><th scope=col>&lt;chr&gt;</th><th scope=col>&lt;chr&gt;</th><th scope=col>&lt;chr&gt;</th><th scope=col>&lt;chr&gt;</th><th scope=col>&lt;chr&gt;</th><th scope=col>&lt;chr&gt;</th></tr>\n",
       "</thead>\n",
       "<tbody>\n",
       "\t<tr><td>2001</td><td>Herek </td><td><span style=white-space:pre-wrap>Clack  </span></td><td><span style=white-space:pre-wrap>Herek Clack   </span></td><td><span style=white-space:pre-wrap>Illinois Institute of Technology  </span></td><td>Assistant Professor</td><td>MW</td><td>Mechanical &amp; Aerospace Engineering</td><td>PWI</td></tr>\n",
       "\t<tr><td>2001</td><td>Herek </td><td>Clack  </td><td>Herek Clack   </td><td>Illinois Institute of Technology  </td><td>Assistant Professor</td><td>MW</td><td> Material Science Engineering     </td><td>PWI</td></tr>\n",
       "\t<tr><td>2001</td><td>Norman</td><td>Loney  </td><td>Norman Loney  </td><td>New Jersey Institute of Technology</td><td>Associate Professor</td><td>NE</td><td>Chemical Engineering              </td><td>PWI</td></tr>\n",
       "\t<tr><td>2001</td><td>Norman</td><td>Loney  </td><td>Norman Loney  </td><td>New Jersey Institute of Technology</td><td>Associate Professor</td><td>NE</td><td>Environmental Engineering         </td><td>PWI</td></tr>\n",
       "\t<tr><td>2001</td><td>Howard</td><td>Matthew</td><td>Howard Matthew</td><td>Wayne State University            </td><td>Associate Professor</td><td>MW</td><td>Chemical Engineering              </td><td>PWI</td></tr>\n",
       "\t<tr><td>2001</td><td>Howard</td><td>Matthew</td><td>Howard Matthew</td><td>Wayne State University            </td><td>Associate Professor</td><td>MW</td><td> Material Science Engineering     </td><td>PWI</td></tr>\n",
       "</tbody>\n",
       "</table>\n"
      ],
      "text/latex": [
       "A tibble: 6 × 9\n",
       "\\begin{tabular}{lllllllll}\n",
       " Year\\_of\\_Attendance & First\\_Name & Last\\_Name & Full\\_Name & Institution & Position & Region & Department & Type\\\\\n",
       " <dbl> & <chr> & <chr> & <chr> & <chr> & <chr> & <chr> & <chr> & <chr>\\\\\n",
       "\\hline\n",
       "\t 2001 & Herek  & Clack   & Herek Clack    & Illinois Institute of Technology   & Assistant Professor & MW & Mechanical \\& Aerospace Engineering & PWI\\\\\n",
       "\t 2001 & Herek  & Clack   & Herek Clack    & Illinois Institute of Technology   & Assistant Professor & MW &  Material Science Engineering      & PWI\\\\\n",
       "\t 2001 & Norman & Loney   & Norman Loney   & New Jersey Institute of Technology & Associate Professor & NE & Chemical Engineering               & PWI\\\\\n",
       "\t 2001 & Norman & Loney   & Norman Loney   & New Jersey Institute of Technology & Associate Professor & NE & Environmental Engineering          & PWI\\\\\n",
       "\t 2001 & Howard & Matthew & Howard Matthew & Wayne State University             & Associate Professor & MW & Chemical Engineering               & PWI\\\\\n",
       "\t 2001 & Howard & Matthew & Howard Matthew & Wayne State University             & Associate Professor & MW &  Material Science Engineering      & PWI\\\\\n",
       "\\end{tabular}\n"
      ],
      "text/markdown": [
       "\n",
       "A tibble: 6 × 9\n",
       "\n",
       "| Year_of_Attendance &lt;dbl&gt; | First_Name &lt;chr&gt; | Last_Name &lt;chr&gt; | Full_Name &lt;chr&gt; | Institution &lt;chr&gt; | Position &lt;chr&gt; | Region &lt;chr&gt; | Department &lt;chr&gt; | Type &lt;chr&gt; |\n",
       "|---|---|---|---|---|---|---|---|---|\n",
       "| 2001 | Herek  | Clack   | Herek Clack    | Illinois Institute of Technology   | Assistant Professor | MW | Mechanical &amp; Aerospace Engineering | PWI |\n",
       "| 2001 | Herek  | Clack   | Herek Clack    | Illinois Institute of Technology   | Assistant Professor | MW |  Material Science Engineering      | PWI |\n",
       "| 2001 | Norman | Loney   | Norman Loney   | New Jersey Institute of Technology | Associate Professor | NE | Chemical Engineering               | PWI |\n",
       "| 2001 | Norman | Loney   | Norman Loney   | New Jersey Institute of Technology | Associate Professor | NE | Environmental Engineering          | PWI |\n",
       "| 2001 | Howard | Matthew | Howard Matthew | Wayne State University             | Associate Professor | MW | Chemical Engineering               | PWI |\n",
       "| 2001 | Howard | Matthew | Howard Matthew | Wayne State University             | Associate Professor | MW |  Material Science Engineering      | PWI |\n",
       "\n"
      ],
      "text/plain": [
       "  Year_of_Attendance First_Name Last_Name Full_Name     \n",
       "1 2001               Herek      Clack     Herek Clack   \n",
       "2 2001               Herek      Clack     Herek Clack   \n",
       "3 2001               Norman     Loney     Norman Loney  \n",
       "4 2001               Norman     Loney     Norman Loney  \n",
       "5 2001               Howard     Matthew   Howard Matthew\n",
       "6 2001               Howard     Matthew   Howard Matthew\n",
       "  Institution                        Position            Region\n",
       "1 Illinois Institute of Technology   Assistant Professor MW    \n",
       "2 Illinois Institute of Technology   Assistant Professor MW    \n",
       "3 New Jersey Institute of Technology Associate Professor NE    \n",
       "4 New Jersey Institute of Technology Associate Professor NE    \n",
       "5 Wayne State University             Associate Professor MW    \n",
       "6 Wayne State University             Associate Professor MW    \n",
       "  Department                         Type\n",
       "1 Mechanical & Aerospace Engineering PWI \n",
       "2  Material Science Engineering      PWI \n",
       "3 Chemical Engineering               PWI \n",
       "4 Environmental Engineering          PWI \n",
       "5 Chemical Engineering               PWI \n",
       "6  Material Science Engineering      PWI "
      ]
     },
     "metadata": {},
     "output_type": "display_data"
    }
   ],
   "source": [
    "final_df = recombined_df %>%\n",
    "    # splitting up the type col for people at institutions with multiple types\n",
    "    separate(Type, c(\"Type1\", \"Type2\"), sep = \"/\") %>%\n",
    "    pivot_longer(cols = starts_with(\"Type\"), values_to = \"Type\") %>%\n",
    "    select(-name) %>%\n",
    "    # removing rows without a 2nd type\n",
    "    filter(!is.na(Type))\n",
    "\n",
    "head(final_df)"
   ]
  },
  {
   "cell_type": "code",
   "execution_count": 11,
   "id": "0cbc1803-94da-4897-a1eb-90338bf149f9",
   "metadata": {},
   "outputs": [
    {
     "name": "stderr",
     "output_type": "stream",
     "text": [
      "\u001b[1m\u001b[22m`summarise()` has grouped output by 'Year_of_Attendance'. You can override\n",
      "using the `.groups` argument.\n"
     ]
    },
    {
     "data": {
      "text/html": [
       "<table class=\"dataframe\">\n",
       "<caption>A grouped_df: 6 × 3</caption>\n",
       "<thead>\n",
       "\t<tr><th scope=col>Year_of_Attendance</th><th scope=col>Type</th><th scope=col>n</th></tr>\n",
       "\t<tr><th scope=col>&lt;dbl&gt;</th><th scope=col>&lt;chr&gt;</th><th scope=col>&lt;int&gt;</th></tr>\n",
       "</thead>\n",
       "<tbody>\n",
       "\t<tr><td>2001</td><td>PWI     </td><td>40</td></tr>\n",
       "\t<tr><td>2001</td><td>HBCU    </td><td>10</td></tr>\n",
       "\t<tr><td>2001</td><td>AANAPISI</td><td> 8</td></tr>\n",
       "\t<tr><td>2001</td><td>HSI     </td><td> 7</td></tr>\n",
       "\t<tr><td>2001</td><td>Industry</td><td> 5</td></tr>\n",
       "\t<tr><td>2001</td><td>Govt    </td><td> 1</td></tr>\n",
       "</tbody>\n",
       "</table>\n"
      ],
      "text/latex": [
       "A grouped\\_df: 6 × 3\n",
       "\\begin{tabular}{lll}\n",
       " Year\\_of\\_Attendance & Type & n\\\\\n",
       " <dbl> & <chr> & <int>\\\\\n",
       "\\hline\n",
       "\t 2001 & PWI      & 40\\\\\n",
       "\t 2001 & HBCU     & 10\\\\\n",
       "\t 2001 & AANAPISI &  8\\\\\n",
       "\t 2001 & HSI      &  7\\\\\n",
       "\t 2001 & Industry &  5\\\\\n",
       "\t 2001 & Govt     &  1\\\\\n",
       "\\end{tabular}\n"
      ],
      "text/markdown": [
       "\n",
       "A grouped_df: 6 × 3\n",
       "\n",
       "| Year_of_Attendance &lt;dbl&gt; | Type &lt;chr&gt; | n &lt;int&gt; |\n",
       "|---|---|---|\n",
       "| 2001 | PWI      | 40 |\n",
       "| 2001 | HBCU     | 10 |\n",
       "| 2001 | AANAPISI |  8 |\n",
       "| 2001 | HSI      |  7 |\n",
       "| 2001 | Industry |  5 |\n",
       "| 2001 | Govt     |  1 |\n",
       "\n"
      ],
      "text/plain": [
       "  Year_of_Attendance Type     n \n",
       "1 2001               PWI      40\n",
       "2 2001               HBCU     10\n",
       "3 2001               AANAPISI  8\n",
       "4 2001               HSI       7\n",
       "5 2001               Industry  5\n",
       "6 2001               Govt      1"
      ]
     },
     "metadata": {},
     "output_type": "display_data"
    }
   ],
   "source": [
    "type_part_df = final_df %>%\n",
    "    group_by(Year_of_Attendance, Type) %>%\n",
    "    summarize(n = n()) %>%\n",
    "    arrange(-n, .by_group = TRUE)\n",
    "\n",
    "head(type_part_df)"
   ]
  },
  {
   "cell_type": "code",
   "execution_count": 12,
   "id": "609262dc-07bc-40cd-84ee-6f554f496f7a",
   "metadata": {},
   "outputs": [
    {
     "name": "stderr",
     "output_type": "stream",
     "text": [
      "\u001b[1m\u001b[22m`summarise()` has grouped output by 'Year_of_Attendance'. You can override\n",
      "using the `.groups` argument.\n"
     ]
    },
    {
     "data": {
      "text/html": [
       "<table class=\"dataframe\">\n",
       "<caption>A grouped_df: 6 × 3</caption>\n",
       "<thead>\n",
       "\t<tr><th scope=col>Year_of_Attendance</th><th scope=col>Type</th><th scope=col>n</th></tr>\n",
       "\t<tr><th scope=col>&lt;dbl&gt;</th><th scope=col>&lt;chr&gt;</th><th scope=col>&lt;int&gt;</th></tr>\n",
       "</thead>\n",
       "<tbody>\n",
       "\t<tr><td>2001</td><td>PWI     </td><td>29</td></tr>\n",
       "\t<tr><td>2001</td><td>HBCU    </td><td> 7</td></tr>\n",
       "\t<tr><td>2001</td><td>HSI     </td><td> 5</td></tr>\n",
       "\t<tr><td>2001</td><td>Industry</td><td> 4</td></tr>\n",
       "\t<tr><td>2001</td><td>AANAPISI</td><td> 3</td></tr>\n",
       "\t<tr><td>2001</td><td>Govt    </td><td> 1</td></tr>\n",
       "</tbody>\n",
       "</table>\n"
      ],
      "text/latex": [
       "A grouped\\_df: 6 × 3\n",
       "\\begin{tabular}{lll}\n",
       " Year\\_of\\_Attendance & Type & n\\\\\n",
       " <dbl> & <chr> & <int>\\\\\n",
       "\\hline\n",
       "\t 2001 & PWI      & 29\\\\\n",
       "\t 2001 & HBCU     &  7\\\\\n",
       "\t 2001 & HSI      &  5\\\\\n",
       "\t 2001 & Industry &  4\\\\\n",
       "\t 2001 & AANAPISI &  3\\\\\n",
       "\t 2001 & Govt     &  1\\\\\n",
       "\\end{tabular}\n"
      ],
      "text/markdown": [
       "\n",
       "A grouped_df: 6 × 3\n",
       "\n",
       "| Year_of_Attendance &lt;dbl&gt; | Type &lt;chr&gt; | n &lt;int&gt; |\n",
       "|---|---|---|\n",
       "| 2001 | PWI      | 29 |\n",
       "| 2001 | HBCU     |  7 |\n",
       "| 2001 | HSI      |  5 |\n",
       "| 2001 | Industry |  4 |\n",
       "| 2001 | AANAPISI |  3 |\n",
       "| 2001 | Govt     |  1 |\n",
       "\n"
      ],
      "text/plain": [
       "  Year_of_Attendance Type     n \n",
       "1 2001               PWI      29\n",
       "2 2001               HBCU      7\n",
       "3 2001               HSI       5\n",
       "4 2001               Industry  4\n",
       "5 2001               AANAPISI  3\n",
       "6 2001               Govt      1"
      ]
     },
     "metadata": {},
     "output_type": "display_data"
    }
   ],
   "source": [
    "type_inst_df = unique(final_df[,c(1,5,9)]) %>%\n",
    "    group_by(Year_of_Attendance, Type) %>%\n",
    "    summarize(n = n()) %>%\n",
    "    arrange(-n, .by_group = TRUE)\n",
    "\n",
    "head(type_inst_df)"
   ]
  },
  {
   "cell_type": "code",
   "execution_count": 13,
   "id": "b9d4caba-de98-4ed0-ba27-37f75e6d842b",
   "metadata": {},
   "outputs": [],
   "source": [
    "# exporting files\n",
    "write.xlsx(repeat_year_df, paste0(Output,\"/\", \"Q1_Results_\", cur_date, \".xlsx\"), rowNames = FALSE)\n",
    "write.xlsx(dept_counts_df, paste0(Output,\"/\", \"Q2_Results_\", cur_date, \".xlsx\"), rowNames = FALSE)\n",
    "write.xlsx(regional_part_df, paste0(Output,\"/\", \"Q3a_Results_\", cur_date, \".xlsx\"), rowNames = FALSE)\n",
    "write.xlsx(regional_inst_df, paste0(Output,\"/\", \"Q3b_Results_\", cur_date, \".xlsx\"), rowNames = FALSE)\n",
    "write.xlsx(type_part_df, paste0(Output,\"/\", \"Q4a_Results_\", cur_date, \".xlsx\"), rowNames = FALSE)\n",
    "write.xlsx(type_inst_df, paste0(Output,\"/\", \"Q4b_Results_\", cur_date, \".xlsx\"), rowNames = FALSE)"
   ]
  }
 ],
 "metadata": {
  "kernelspec": {
   "display_name": "R",
   "language": "R",
   "name": "ir"
  },
  "language_info": {
   "codemirror_mode": "r",
   "file_extension": ".r",
   "mimetype": "text/x-r-source",
   "name": "R",
   "pygments_lexer": "r",
   "version": "4.5.1"
  }
 },
 "nbformat": 4,
 "nbformat_minor": 5
}
