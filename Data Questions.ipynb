{
 "cells": [
  {
   "cell_type": "code",
   "execution_count": 1,
   "id": "f4816310-086a-4e9c-b091-28db434bc425",
   "metadata": {},
   "outputs": [
    {
     "name": "stderr",
     "output_type": "stream",
     "text": [
      "── \u001b[1mAttaching core tidyverse packages\u001b[22m ──────────────────────── tidyverse 2.0.0 ──\n",
      "\u001b[32m✔\u001b[39m \u001b[34mdplyr    \u001b[39m 1.1.4     \u001b[32m✔\u001b[39m \u001b[34mreadr    \u001b[39m 2.1.5\n",
      "\u001b[32m✔\u001b[39m \u001b[34mforcats  \u001b[39m 1.0.0     \u001b[32m✔\u001b[39m \u001b[34mstringr  \u001b[39m 1.5.1\n",
      "\u001b[32m✔\u001b[39m \u001b[34mggplot2  \u001b[39m 3.5.2     \u001b[32m✔\u001b[39m \u001b[34mtibble   \u001b[39m 3.3.0\n",
      "\u001b[32m✔\u001b[39m \u001b[34mlubridate\u001b[39m 1.9.4     \u001b[32m✔\u001b[39m \u001b[34mtidyr    \u001b[39m 1.3.1\n",
      "\u001b[32m✔\u001b[39m \u001b[34mpurrr    \u001b[39m 1.1.0     \n",
      "── \u001b[1mConflicts\u001b[22m ────────────────────────────────────────── tidyverse_conflicts() ──\n",
      "\u001b[31m✖\u001b[39m \u001b[34mdplyr\u001b[39m::\u001b[32mfilter()\u001b[39m masks \u001b[34mstats\u001b[39m::filter()\n",
      "\u001b[31m✖\u001b[39m \u001b[34mdplyr\u001b[39m::\u001b[32mlag()\u001b[39m    masks \u001b[34mstats\u001b[39m::lag()\n",
      "\u001b[36mℹ\u001b[39m Use the conflicted package (\u001b[3m\u001b[34m<http://conflicted.r-lib.org/>\u001b[39m\u001b[23m) to force all conflicts to become errors\n",
      "\n",
      "Attaching package: ‘reshape2’\n",
      "\n",
      "\n",
      "The following object is masked from ‘package:tidyr’:\n",
      "\n",
      "    smiths\n",
      "\n",
      "\n"
     ]
    }
   ],
   "source": [
    ".libPaths(R.home('/opt/homebrew/Caskroom/miniforge/base/lib/R/library'))\n",
    "cur_date = '081625'\n",
    "\n",
    "library(readxl)\n",
    "library(tidyverse)\n",
    "library(reshape2)\n",
    "\n",
    "# reading in files\n",
    "participant_df = data.frame(read_excel(\"Input/Participant Information.xlsx\"))[,1:7]"
   ]
  },
  {
   "cell_type": "code",
   "execution_count": 2,
   "id": "6a022e53-e5e2-4254-8be1-e6342215f50d",
   "metadata": {},
   "outputs": [
    {
     "data": {
      "text/html": [
       "<table class=\"dataframe\">\n",
       "<caption>A data.frame: 6 × 7</caption>\n",
       "<thead>\n",
       "\t<tr><th></th><th scope=col>Year_of_Attendance</th><th scope=col>First_Name</th><th scope=col>Last_Name</th><th scope=col>Full_Name</th><th scope=col>Institution</th><th scope=col>Department</th><th scope=col>Position</th></tr>\n",
       "\t<tr><th></th><th scope=col>&lt;dbl&gt;</th><th scope=col>&lt;chr&gt;</th><th scope=col>&lt;chr&gt;</th><th scope=col>&lt;chr&gt;</th><th scope=col>&lt;chr&gt;</th><th scope=col>&lt;chr&gt;</th><th scope=col>&lt;chr&gt;</th></tr>\n",
       "</thead>\n",
       "<tbody>\n",
       "\t<tr><th scope=row>1</th><td>2001</td><td>Jalal  </td><td>Abedi   </td><td>Jalal Abedi     </td><td>Clark Atlanta University           </td><td>Chemical Engineering             </td><td>Assistant Professor           </td></tr>\n",
       "\t<tr><th scope=row>2</th><td>2001</td><td>Lukee  </td><td>Achenie </td><td>Lukee Achenie   </td><td>University of Connecticut          </td><td>Chemical Engineering             </td><td>Associate Professor           </td></tr>\n",
       "\t<tr><th scope=row>3</th><td>2001</td><td>Wudneh </td><td>Admassu </td><td>Wudneh Admassu  </td><td>University of Idaho                </td><td>Chemical Engineering             </td><td>Professor and Department Chair</td></tr>\n",
       "\t<tr><th scope=row>4</th><td>2001</td><td><span style=white-space:pre-wrap>Pedro  </span></td><td>Alvarez </td><td><span style=white-space:pre-wrap>Pedro Alvarez   </span></td><td><span style=white-space:pre-wrap>University of Iowa                 </span></td><td>Civil &amp; Environmental Engineering</td><td><span style=white-space:pre-wrap>Associate Professor           </span></td></tr>\n",
       "\t<tr><th scope=row>5</th><td>2001</td><td>Camille</td><td>Anderson</td><td>Camille Anderson</td><td>University of California - Berkeley</td><td>Chemical Engineering             </td><td>PhD Candidate                 </td></tr>\n",
       "\t<tr><th scope=row>6</th><td>2001</td><td>Lynden </td><td>Archer  </td><td>Lynden Archer   </td><td>Cornell University                 </td><td>Chemical Engineering             </td><td>Associate Professor           </td></tr>\n",
       "</tbody>\n",
       "</table>\n"
      ],
      "text/latex": [
       "A data.frame: 6 × 7\n",
       "\\begin{tabular}{r|lllllll}\n",
       "  & Year\\_of\\_Attendance & First\\_Name & Last\\_Name & Full\\_Name & Institution & Department & Position\\\\\n",
       "  & <dbl> & <chr> & <chr> & <chr> & <chr> & <chr> & <chr>\\\\\n",
       "\\hline\n",
       "\t1 & 2001 & Jalal   & Abedi    & Jalal Abedi      & Clark Atlanta University            & Chemical Engineering              & Assistant Professor           \\\\\n",
       "\t2 & 2001 & Lukee   & Achenie  & Lukee Achenie    & University of Connecticut           & Chemical Engineering              & Associate Professor           \\\\\n",
       "\t3 & 2001 & Wudneh  & Admassu  & Wudneh Admassu   & University of Idaho                 & Chemical Engineering              & Professor and Department Chair\\\\\n",
       "\t4 & 2001 & Pedro   & Alvarez  & Pedro Alvarez    & University of Iowa                  & Civil \\& Environmental Engineering & Associate Professor           \\\\\n",
       "\t5 & 2001 & Camille & Anderson & Camille Anderson & University of California - Berkeley & Chemical Engineering              & PhD Candidate                 \\\\\n",
       "\t6 & 2001 & Lynden  & Archer   & Lynden Archer    & Cornell University                  & Chemical Engineering              & Associate Professor           \\\\\n",
       "\\end{tabular}\n"
      ],
      "text/markdown": [
       "\n",
       "A data.frame: 6 × 7\n",
       "\n",
       "| <!--/--> | Year_of_Attendance &lt;dbl&gt; | First_Name &lt;chr&gt; | Last_Name &lt;chr&gt; | Full_Name &lt;chr&gt; | Institution &lt;chr&gt; | Department &lt;chr&gt; | Position &lt;chr&gt; |\n",
       "|---|---|---|---|---|---|---|---|\n",
       "| 1 | 2001 | Jalal   | Abedi    | Jalal Abedi      | Clark Atlanta University            | Chemical Engineering              | Assistant Professor            |\n",
       "| 2 | 2001 | Lukee   | Achenie  | Lukee Achenie    | University of Connecticut           | Chemical Engineering              | Associate Professor            |\n",
       "| 3 | 2001 | Wudneh  | Admassu  | Wudneh Admassu   | University of Idaho                 | Chemical Engineering              | Professor and Department Chair |\n",
       "| 4 | 2001 | Pedro   | Alvarez  | Pedro Alvarez    | University of Iowa                  | Civil &amp; Environmental Engineering | Associate Professor            |\n",
       "| 5 | 2001 | Camille | Anderson | Camille Anderson | University of California - Berkeley | Chemical Engineering              | PhD Candidate                  |\n",
       "| 6 | 2001 | Lynden  | Archer   | Lynden Archer    | Cornell University                  | Chemical Engineering              | Associate Professor            |\n",
       "\n"
      ],
      "text/plain": [
       "  Year_of_Attendance First_Name Last_Name Full_Name       \n",
       "1 2001               Jalal      Abedi     Jalal Abedi     \n",
       "2 2001               Lukee      Achenie   Lukee Achenie   \n",
       "3 2001               Wudneh     Admassu   Wudneh Admassu  \n",
       "4 2001               Pedro      Alvarez   Pedro Alvarez   \n",
       "5 2001               Camille    Anderson  Camille Anderson\n",
       "6 2001               Lynden     Archer    Lynden Archer   \n",
       "  Institution                         Department                       \n",
       "1 Clark Atlanta University            Chemical Engineering             \n",
       "2 University of Connecticut           Chemical Engineering             \n",
       "3 University of Idaho                 Chemical Engineering             \n",
       "4 University of Iowa                  Civil & Environmental Engineering\n",
       "5 University of California - Berkeley Chemical Engineering             \n",
       "6 Cornell University                  Chemical Engineering             \n",
       "  Position                      \n",
       "1 Assistant Professor           \n",
       "2 Associate Professor           \n",
       "3 Professor and Department Chair\n",
       "4 Associate Professor           \n",
       "5 PhD Candidate                 \n",
       "6 Associate Professor           "
      ]
     },
     "metadata": {},
     "output_type": "display_data"
    }
   ],
   "source": [
    "head(participant_df)"
   ]
  },
  {
   "cell_type": "markdown",
   "id": "c4cc7c65-293a-4fef-b34f-1d22a6d992a7",
   "metadata": {},
   "source": [
    "## 1. How many participants returned and which years did they attend?"
   ]
  },
  {
   "cell_type": "code",
   "execution_count": 3,
   "id": "3b057460-4585-47b0-a2a6-d455a8148ccd",
   "metadata": {},
   "outputs": [
    {
     "data": {
      "text/html": [
       "<table class=\"dataframe\">\n",
       "<caption>A grouped_df: 6 × 2</caption>\n",
       "<thead>\n",
       "\t<tr><th scope=col>Full_Name</th><th scope=col>n</th></tr>\n",
       "\t<tr><th scope=col>&lt;chr&gt;</th><th scope=col>&lt;int&gt;</th></tr>\n",
       "</thead>\n",
       "<tbody>\n",
       "\t<tr><td>Addle Hicks      </td><td>2</td></tr>\n",
       "\t<tr><td>Alfred Cruz      </td><td>2</td></tr>\n",
       "\t<tr><td>Anjelica Gonzalez</td><td>3</td></tr>\n",
       "\t<tr><td>Asegun Henry     </td><td>2</td></tr>\n",
       "\t<tr><td>Carmen Lilley    </td><td>2</td></tr>\n",
       "\t<tr><td>Cheryl Gomillion </td><td>2</td></tr>\n",
       "</tbody>\n",
       "</table>\n"
      ],
      "text/latex": [
       "A grouped\\_df: 6 × 2\n",
       "\\begin{tabular}{ll}\n",
       " Full\\_Name & n\\\\\n",
       " <chr> & <int>\\\\\n",
       "\\hline\n",
       "\t Addle Hicks       & 2\\\\\n",
       "\t Alfred Cruz       & 2\\\\\n",
       "\t Anjelica Gonzalez & 3\\\\\n",
       "\t Asegun Henry      & 2\\\\\n",
       "\t Carmen Lilley     & 2\\\\\n",
       "\t Cheryl Gomillion  & 2\\\\\n",
       "\\end{tabular}\n"
      ],
      "text/markdown": [
       "\n",
       "A grouped_df: 6 × 2\n",
       "\n",
       "| Full_Name &lt;chr&gt; | n &lt;int&gt; |\n",
       "|---|---|\n",
       "| Addle Hicks       | 2 |\n",
       "| Alfred Cruz       | 2 |\n",
       "| Anjelica Gonzalez | 3 |\n",
       "| Asegun Henry      | 2 |\n",
       "| Carmen Lilley     | 2 |\n",
       "| Cheryl Gomillion  | 2 |\n",
       "\n"
      ],
      "text/plain": [
       "  Full_Name         n\n",
       "1 Addle Hicks       2\n",
       "2 Alfred Cruz       2\n",
       "3 Anjelica Gonzalez 3\n",
       "4 Asegun Henry      2\n",
       "5 Carmen Lilley     2\n",
       "6 Cheryl Gomillion  2"
      ]
     },
     "metadata": {},
     "output_type": "display_data"
    }
   ],
   "source": [
    "repeating_part_df = participant_df %>%\n",
    "    group_by(Full_Name) %>%\n",
    "    count() %>%\n",
    "    filter(n > 1)\n",
    "\n",
    "head(repeating_part_df)"
   ]
  },
  {
   "cell_type": "code",
   "execution_count": 5,
   "id": "60bc0cd8-6f28-43a3-bb7a-e5625e9c2927",
   "metadata": {},
   "outputs": [
    {
     "data": {
      "text/html": [
       "58"
      ],
      "text/latex": [
       "58"
      ],
      "text/markdown": [
       "58"
      ],
      "text/plain": [
       "[1] 58"
      ]
     },
     "metadata": {},
     "output_type": "display_data"
    },
    {
     "data": {
      "text/html": [
       "<table class=\"dataframe\">\n",
       "<caption>A data.frame: 6 × 2</caption>\n",
       "<thead>\n",
       "\t<tr><th></th><th scope=col>Year_of_Attendance</th><th scope=col>Full_Name</th></tr>\n",
       "\t<tr><th></th><th scope=col>&lt;dbl&gt;</th><th scope=col>&lt;chr&gt;</th></tr>\n",
       "</thead>\n",
       "<tbody>\n",
       "\t<tr><th scope=row>1</th><td>2006</td><td>Addle Hicks      </td></tr>\n",
       "\t<tr><th scope=row>2</th><td>2009</td><td>Addle Hicks      </td></tr>\n",
       "\t<tr><th scope=row>3</th><td>2010</td><td>Alfred Cruz      </td></tr>\n",
       "\t<tr><th scope=row>4</th><td>2016</td><td>Alfred Cruz      </td></tr>\n",
       "\t<tr><th scope=row>5</th><td>2004</td><td>Anjelica Gonzalez</td></tr>\n",
       "\t<tr><th scope=row>6</th><td>2006</td><td>Anjelica Gonzalez</td></tr>\n",
       "</tbody>\n",
       "</table>\n"
      ],
      "text/latex": [
       "A data.frame: 6 × 2\n",
       "\\begin{tabular}{r|ll}\n",
       "  & Year\\_of\\_Attendance & Full\\_Name\\\\\n",
       "  & <dbl> & <chr>\\\\\n",
       "\\hline\n",
       "\t1 & 2006 & Addle Hicks      \\\\\n",
       "\t2 & 2009 & Addle Hicks      \\\\\n",
       "\t3 & 2010 & Alfred Cruz      \\\\\n",
       "\t4 & 2016 & Alfred Cruz      \\\\\n",
       "\t5 & 2004 & Anjelica Gonzalez\\\\\n",
       "\t6 & 2006 & Anjelica Gonzalez\\\\\n",
       "\\end{tabular}\n"
      ],
      "text/markdown": [
       "\n",
       "A data.frame: 6 × 2\n",
       "\n",
       "| <!--/--> | Year_of_Attendance &lt;dbl&gt; | Full_Name &lt;chr&gt; |\n",
       "|---|---|---|\n",
       "| 1 | 2006 | Addle Hicks       |\n",
       "| 2 | 2009 | Addle Hicks       |\n",
       "| 3 | 2010 | Alfred Cruz       |\n",
       "| 4 | 2016 | Alfred Cruz       |\n",
       "| 5 | 2004 | Anjelica Gonzalez |\n",
       "| 6 | 2006 | Anjelica Gonzalez |\n",
       "\n"
      ],
      "text/plain": [
       "  Year_of_Attendance Full_Name        \n",
       "1 2006               Addle Hicks      \n",
       "2 2009               Addle Hicks      \n",
       "3 2010               Alfred Cruz      \n",
       "4 2016               Alfred Cruz      \n",
       "5 2004               Anjelica Gonzalez\n",
       "6 2006               Anjelica Gonzalez"
      ]
     },
     "metadata": {},
     "output_type": "display_data"
    }
   ],
   "source": [
    "repeating_names = repeating_part_df$Full_Name\n",
    "length(repeating_names)\n",
    "\n",
    "repeat_year_df = participant_df[,c(1,4)] %>%\n",
    "    filter(Full_Name %in% repeating_names) %>%\n",
    "    arrange(Full_Name)\n",
    "\n",
    "head(repeat_year_df)"
   ]
  },
  {
   "cell_type": "markdown",
   "id": "63703a41-13fc-484a-b9e5-bc0741393a82",
   "metadata": {},
   "source": [
    "58 participants attended at least twice.\n",
    "\n",
    "## 2. How many partipants represented each department for each year (i.e., chemistry engineering for 2001 had 5 participants)?"
   ]
  },
  {
   "cell_type": "markdown",
   "id": "04d8ca7b-ca5c-447a-aec3-72f240a42ac9",
   "metadata": {},
   "source": [
    "## 3. How many participants and institutions are from each region per year?"
   ]
  },
  {
   "cell_type": "markdown",
   "id": "cda23243-54f5-4bf9-a44a-d79dfd92a007",
   "metadata": {},
   "source": [
    "## 4. How many participants and instituions are from year institutional type per year?"
   ]
  },
  {
   "cell_type": "code",
   "execution_count": null,
   "id": "0cbc1803-94da-4897-a1eb-90338bf149f9",
   "metadata": {},
   "outputs": [],
   "source": []
  }
 ],
 "metadata": {
  "kernelspec": {
   "display_name": "R",
   "language": "R",
   "name": "ir"
  },
  "language_info": {
   "codemirror_mode": "r",
   "file_extension": ".r",
   "mimetype": "text/x-r-source",
   "name": "R",
   "pygments_lexer": "r",
   "version": "4.5.1"
  }
 },
 "nbformat": 4,
 "nbformat_minor": 5
}
